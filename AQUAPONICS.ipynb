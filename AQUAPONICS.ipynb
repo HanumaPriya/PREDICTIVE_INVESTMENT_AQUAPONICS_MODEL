{
  "nbformat": 4,
  "nbformat_minor": 0,
  "metadata": {
    "colab": {
      "provenance": []
    },
    "kernelspec": {
      "name": "python3",
      "display_name": "Python 3"
    },
    "language_info": {
      "name": "python"
    }
  },
  "cells": [
    {
      "cell_type": "code",
      "execution_count": 21,
      "metadata": {
        "id": "beiJEDDu8a5N"
      },
      "outputs": [],
      "source": [
        "#importing necessary libraries\n",
        "import pandas as pd\n",
        "import numpy as np\n",
        "import seaborn as sns\n",
        "import matplotlib as plt"
      ]
    },
    {
      "cell_type": "code",
      "source": [
        "#Loading the dataset\n",
        "data=pd.read_csv(\"AQUAPONICS_DATASET.csv\")"
      ],
      "metadata": {
        "id": "elDTuKXl8d5n"
      },
      "execution_count": 22,
      "outputs": []
    },
    {
      "cell_type": "markdown",
      "source": [
        "**EXPLORATORY DATA ANALYSIS**"
      ],
      "metadata": {
        "id": "uO7_RR8L8zi0"
      }
    },
    {
      "cell_type": "code",
      "source": [
        "data.head()"
      ],
      "metadata": {
        "colab": {
          "base_uri": "https://localhost:8080/",
          "height": 260
        },
        "id": "0urYe9K78s_q",
        "outputId": "99c70e33-196b-425c-ffd9-692f6e85c004"
      },
      "execution_count": 23,
      "outputs": [
        {
          "output_type": "execute_result",
          "data": {
            "text/plain": [
              "   Temperature        pH  Dissolved Oxygen   Ammonia   Nitrate  \\\n",
              "0    24.390508  7.248268          7.176519  0.189531  1.846282   \n",
              "1    25.721515  6.680203          6.123470  0.125830  1.056630   \n",
              "2    24.822107  6.889023          8.769902  0.044254  2.384524   \n",
              "3    24.359065  6.537600          7.218705  0.208134  0.411172   \n",
              "4    23.389238  6.511788          8.832847  0.129206  1.188297   \n",
              "\n",
              "      Fish Behavior  Fish Growth Rate   Growth Stage   Leaf Area       Yield  \\\n",
              "0  Active_schooling          0.471631      Flowering  298.525387  247.313309   \n",
              "1   Active_stressed          0.557460     Vegetative  195.433217  137.951616   \n",
              "2  Active_schooling               NaN  Fruit_Setting  211.116076  214.963352   \n",
              "3    Active_feeding          0.481778  Fruit_Setting  271.366089  234.135124   \n",
              "4  Active_schooling          0.287434       Seedling  238.202145  218.280792   \n",
              "\n",
              "  Fish Species Pairable Plant Species  Fish Success Rate  Plant Success Rate  \n",
              "0        Trout                Lettuce           0.752604            0.775859  \n",
              "1      Tilapia                  Basil           0.816597            0.827085  \n",
              "2      Tilapia                Lettuce           0.999279            0.712924  \n",
              "3        Perch               Tomatoes           0.840823            0.944266  \n",
              "4        Trout                  Basil           0.994408            0.935110  "
            ],
            "text/html": [
              "\n",
              "  <div id=\"df-71264ccc-9799-4f5e-b736-b1d6139af923\" class=\"colab-df-container\">\n",
              "    <div>\n",
              "<style scoped>\n",
              "    .dataframe tbody tr th:only-of-type {\n",
              "        vertical-align: middle;\n",
              "    }\n",
              "\n",
              "    .dataframe tbody tr th {\n",
              "        vertical-align: top;\n",
              "    }\n",
              "\n",
              "    .dataframe thead th {\n",
              "        text-align: right;\n",
              "    }\n",
              "</style>\n",
              "<table border=\"1\" class=\"dataframe\">\n",
              "  <thead>\n",
              "    <tr style=\"text-align: right;\">\n",
              "      <th></th>\n",
              "      <th>Temperature</th>\n",
              "      <th>pH</th>\n",
              "      <th>Dissolved Oxygen</th>\n",
              "      <th>Ammonia</th>\n",
              "      <th>Nitrate</th>\n",
              "      <th>Fish Behavior</th>\n",
              "      <th>Fish Growth Rate</th>\n",
              "      <th>Growth Stage</th>\n",
              "      <th>Leaf Area</th>\n",
              "      <th>Yield</th>\n",
              "      <th>Fish Species</th>\n",
              "      <th>Pairable Plant Species</th>\n",
              "      <th>Fish Success Rate</th>\n",
              "      <th>Plant Success Rate</th>\n",
              "    </tr>\n",
              "  </thead>\n",
              "  <tbody>\n",
              "    <tr>\n",
              "      <th>0</th>\n",
              "      <td>24.390508</td>\n",
              "      <td>7.248268</td>\n",
              "      <td>7.176519</td>\n",
              "      <td>0.189531</td>\n",
              "      <td>1.846282</td>\n",
              "      <td>Active_schooling</td>\n",
              "      <td>0.471631</td>\n",
              "      <td>Flowering</td>\n",
              "      <td>298.525387</td>\n",
              "      <td>247.313309</td>\n",
              "      <td>Trout</td>\n",
              "      <td>Lettuce</td>\n",
              "      <td>0.752604</td>\n",
              "      <td>0.775859</td>\n",
              "    </tr>\n",
              "    <tr>\n",
              "      <th>1</th>\n",
              "      <td>25.721515</td>\n",
              "      <td>6.680203</td>\n",
              "      <td>6.123470</td>\n",
              "      <td>0.125830</td>\n",
              "      <td>1.056630</td>\n",
              "      <td>Active_stressed</td>\n",
              "      <td>0.557460</td>\n",
              "      <td>Vegetative</td>\n",
              "      <td>195.433217</td>\n",
              "      <td>137.951616</td>\n",
              "      <td>Tilapia</td>\n",
              "      <td>Basil</td>\n",
              "      <td>0.816597</td>\n",
              "      <td>0.827085</td>\n",
              "    </tr>\n",
              "    <tr>\n",
              "      <th>2</th>\n",
              "      <td>24.822107</td>\n",
              "      <td>6.889023</td>\n",
              "      <td>8.769902</td>\n",
              "      <td>0.044254</td>\n",
              "      <td>2.384524</td>\n",
              "      <td>Active_schooling</td>\n",
              "      <td>NaN</td>\n",
              "      <td>Fruit_Setting</td>\n",
              "      <td>211.116076</td>\n",
              "      <td>214.963352</td>\n",
              "      <td>Tilapia</td>\n",
              "      <td>Lettuce</td>\n",
              "      <td>0.999279</td>\n",
              "      <td>0.712924</td>\n",
              "    </tr>\n",
              "    <tr>\n",
              "      <th>3</th>\n",
              "      <td>24.359065</td>\n",
              "      <td>6.537600</td>\n",
              "      <td>7.218705</td>\n",
              "      <td>0.208134</td>\n",
              "      <td>0.411172</td>\n",
              "      <td>Active_feeding</td>\n",
              "      <td>0.481778</td>\n",
              "      <td>Fruit_Setting</td>\n",
              "      <td>271.366089</td>\n",
              "      <td>234.135124</td>\n",
              "      <td>Perch</td>\n",
              "      <td>Tomatoes</td>\n",
              "      <td>0.840823</td>\n",
              "      <td>0.944266</td>\n",
              "    </tr>\n",
              "    <tr>\n",
              "      <th>4</th>\n",
              "      <td>23.389238</td>\n",
              "      <td>6.511788</td>\n",
              "      <td>8.832847</td>\n",
              "      <td>0.129206</td>\n",
              "      <td>1.188297</td>\n",
              "      <td>Active_schooling</td>\n",
              "      <td>0.287434</td>\n",
              "      <td>Seedling</td>\n",
              "      <td>238.202145</td>\n",
              "      <td>218.280792</td>\n",
              "      <td>Trout</td>\n",
              "      <td>Basil</td>\n",
              "      <td>0.994408</td>\n",
              "      <td>0.935110</td>\n",
              "    </tr>\n",
              "  </tbody>\n",
              "</table>\n",
              "</div>\n",
              "    <div class=\"colab-df-buttons\">\n",
              "\n",
              "  <div class=\"colab-df-container\">\n",
              "    <button class=\"colab-df-convert\" onclick=\"convertToInteractive('df-71264ccc-9799-4f5e-b736-b1d6139af923')\"\n",
              "            title=\"Convert this dataframe to an interactive table.\"\n",
              "            style=\"display:none;\">\n",
              "\n",
              "  <svg xmlns=\"http://www.w3.org/2000/svg\" height=\"24px\" viewBox=\"0 -960 960 960\">\n",
              "    <path d=\"M120-120v-720h720v720H120Zm60-500h600v-160H180v160Zm220 220h160v-160H400v160Zm0 220h160v-160H400v160ZM180-400h160v-160H180v160Zm440 0h160v-160H620v160ZM180-180h160v-160H180v160Zm440 0h160v-160H620v160Z\"/>\n",
              "  </svg>\n",
              "    </button>\n",
              "\n",
              "  <style>\n",
              "    .colab-df-container {\n",
              "      display:flex;\n",
              "      gap: 12px;\n",
              "    }\n",
              "\n",
              "    .colab-df-convert {\n",
              "      background-color: #E8F0FE;\n",
              "      border: none;\n",
              "      border-radius: 50%;\n",
              "      cursor: pointer;\n",
              "      display: none;\n",
              "      fill: #1967D2;\n",
              "      height: 32px;\n",
              "      padding: 0 0 0 0;\n",
              "      width: 32px;\n",
              "    }\n",
              "\n",
              "    .colab-df-convert:hover {\n",
              "      background-color: #E2EBFA;\n",
              "      box-shadow: 0px 1px 2px rgba(60, 64, 67, 0.3), 0px 1px 3px 1px rgba(60, 64, 67, 0.15);\n",
              "      fill: #174EA6;\n",
              "    }\n",
              "\n",
              "    .colab-df-buttons div {\n",
              "      margin-bottom: 4px;\n",
              "    }\n",
              "\n",
              "    [theme=dark] .colab-df-convert {\n",
              "      background-color: #3B4455;\n",
              "      fill: #D2E3FC;\n",
              "    }\n",
              "\n",
              "    [theme=dark] .colab-df-convert:hover {\n",
              "      background-color: #434B5C;\n",
              "      box-shadow: 0px 1px 3px 1px rgba(0, 0, 0, 0.15);\n",
              "      filter: drop-shadow(0px 1px 2px rgba(0, 0, 0, 0.3));\n",
              "      fill: #FFFFFF;\n",
              "    }\n",
              "  </style>\n",
              "\n",
              "    <script>\n",
              "      const buttonEl =\n",
              "        document.querySelector('#df-71264ccc-9799-4f5e-b736-b1d6139af923 button.colab-df-convert');\n",
              "      buttonEl.style.display =\n",
              "        google.colab.kernel.accessAllowed ? 'block' : 'none';\n",
              "\n",
              "      async function convertToInteractive(key) {\n",
              "        const element = document.querySelector('#df-71264ccc-9799-4f5e-b736-b1d6139af923');\n",
              "        const dataTable =\n",
              "          await google.colab.kernel.invokeFunction('convertToInteractive',\n",
              "                                                    [key], {});\n",
              "        if (!dataTable) return;\n",
              "\n",
              "        const docLinkHtml = 'Like what you see? Visit the ' +\n",
              "          '<a target=\"_blank\" href=https://colab.research.google.com/notebooks/data_table.ipynb>data table notebook</a>'\n",
              "          + ' to learn more about interactive tables.';\n",
              "        element.innerHTML = '';\n",
              "        dataTable['output_type'] = 'display_data';\n",
              "        await google.colab.output.renderOutput(dataTable, element);\n",
              "        const docLink = document.createElement('div');\n",
              "        docLink.innerHTML = docLinkHtml;\n",
              "        element.appendChild(docLink);\n",
              "      }\n",
              "    </script>\n",
              "  </div>\n",
              "\n",
              "\n",
              "<div id=\"df-cea85580-3979-4072-9808-08c7707e0485\">\n",
              "  <button class=\"colab-df-quickchart\" onclick=\"quickchart('df-cea85580-3979-4072-9808-08c7707e0485')\"\n",
              "            title=\"Suggest charts\"\n",
              "            style=\"display:none;\">\n",
              "\n",
              "<svg xmlns=\"http://www.w3.org/2000/svg\" height=\"24px\"viewBox=\"0 0 24 24\"\n",
              "     width=\"24px\">\n",
              "    <g>\n",
              "        <path d=\"M19 3H5c-1.1 0-2 .9-2 2v14c0 1.1.9 2 2 2h14c1.1 0 2-.9 2-2V5c0-1.1-.9-2-2-2zM9 17H7v-7h2v7zm4 0h-2V7h2v10zm4 0h-2v-4h2v4z\"/>\n",
              "    </g>\n",
              "</svg>\n",
              "  </button>\n",
              "\n",
              "<style>\n",
              "  .colab-df-quickchart {\n",
              "      --bg-color: #E8F0FE;\n",
              "      --fill-color: #1967D2;\n",
              "      --hover-bg-color: #E2EBFA;\n",
              "      --hover-fill-color: #174EA6;\n",
              "      --disabled-fill-color: #AAA;\n",
              "      --disabled-bg-color: #DDD;\n",
              "  }\n",
              "\n",
              "  [theme=dark] .colab-df-quickchart {\n",
              "      --bg-color: #3B4455;\n",
              "      --fill-color: #D2E3FC;\n",
              "      --hover-bg-color: #434B5C;\n",
              "      --hover-fill-color: #FFFFFF;\n",
              "      --disabled-bg-color: #3B4455;\n",
              "      --disabled-fill-color: #666;\n",
              "  }\n",
              "\n",
              "  .colab-df-quickchart {\n",
              "    background-color: var(--bg-color);\n",
              "    border: none;\n",
              "    border-radius: 50%;\n",
              "    cursor: pointer;\n",
              "    display: none;\n",
              "    fill: var(--fill-color);\n",
              "    height: 32px;\n",
              "    padding: 0;\n",
              "    width: 32px;\n",
              "  }\n",
              "\n",
              "  .colab-df-quickchart:hover {\n",
              "    background-color: var(--hover-bg-color);\n",
              "    box-shadow: 0 1px 2px rgba(60, 64, 67, 0.3), 0 1px 3px 1px rgba(60, 64, 67, 0.15);\n",
              "    fill: var(--button-hover-fill-color);\n",
              "  }\n",
              "\n",
              "  .colab-df-quickchart-complete:disabled,\n",
              "  .colab-df-quickchart-complete:disabled:hover {\n",
              "    background-color: var(--disabled-bg-color);\n",
              "    fill: var(--disabled-fill-color);\n",
              "    box-shadow: none;\n",
              "  }\n",
              "\n",
              "  .colab-df-spinner {\n",
              "    border: 2px solid var(--fill-color);\n",
              "    border-color: transparent;\n",
              "    border-bottom-color: var(--fill-color);\n",
              "    animation:\n",
              "      spin 1s steps(1) infinite;\n",
              "  }\n",
              "\n",
              "  @keyframes spin {\n",
              "    0% {\n",
              "      border-color: transparent;\n",
              "      border-bottom-color: var(--fill-color);\n",
              "      border-left-color: var(--fill-color);\n",
              "    }\n",
              "    20% {\n",
              "      border-color: transparent;\n",
              "      border-left-color: var(--fill-color);\n",
              "      border-top-color: var(--fill-color);\n",
              "    }\n",
              "    30% {\n",
              "      border-color: transparent;\n",
              "      border-left-color: var(--fill-color);\n",
              "      border-top-color: var(--fill-color);\n",
              "      border-right-color: var(--fill-color);\n",
              "    }\n",
              "    40% {\n",
              "      border-color: transparent;\n",
              "      border-right-color: var(--fill-color);\n",
              "      border-top-color: var(--fill-color);\n",
              "    }\n",
              "    60% {\n",
              "      border-color: transparent;\n",
              "      border-right-color: var(--fill-color);\n",
              "    }\n",
              "    80% {\n",
              "      border-color: transparent;\n",
              "      border-right-color: var(--fill-color);\n",
              "      border-bottom-color: var(--fill-color);\n",
              "    }\n",
              "    90% {\n",
              "      border-color: transparent;\n",
              "      border-bottom-color: var(--fill-color);\n",
              "    }\n",
              "  }\n",
              "</style>\n",
              "\n",
              "  <script>\n",
              "    async function quickchart(key) {\n",
              "      const quickchartButtonEl =\n",
              "        document.querySelector('#' + key + ' button');\n",
              "      quickchartButtonEl.disabled = true;  // To prevent multiple clicks.\n",
              "      quickchartButtonEl.classList.add('colab-df-spinner');\n",
              "      try {\n",
              "        const charts = await google.colab.kernel.invokeFunction(\n",
              "            'suggestCharts', [key], {});\n",
              "      } catch (error) {\n",
              "        console.error('Error during call to suggestCharts:', error);\n",
              "      }\n",
              "      quickchartButtonEl.classList.remove('colab-df-spinner');\n",
              "      quickchartButtonEl.classList.add('colab-df-quickchart-complete');\n",
              "    }\n",
              "    (() => {\n",
              "      let quickchartButtonEl =\n",
              "        document.querySelector('#df-cea85580-3979-4072-9808-08c7707e0485 button');\n",
              "      quickchartButtonEl.style.display =\n",
              "        google.colab.kernel.accessAllowed ? 'block' : 'none';\n",
              "    })();\n",
              "  </script>\n",
              "</div>\n",
              "\n",
              "    </div>\n",
              "  </div>\n"
            ]
          },
          "metadata": {},
          "execution_count": 23
        }
      ]
    },
    {
      "cell_type": "code",
      "source": [
        "data.tail()"
      ],
      "metadata": {
        "colab": {
          "base_uri": "https://localhost:8080/",
          "height": 260
        },
        "id": "9NkHU8ay887M",
        "outputId": "dde9f1af-a143-40ca-f494-de8e1b4264f0"
      },
      "execution_count": 24,
      "outputs": [
        {
          "output_type": "execute_result",
          "data": {
            "text/plain": [
              "      Temperature        pH  Dissolved Oxygen   Ammonia   Nitrate  \\\n",
              "9995    24.403575  7.248175          7.867078  0.167096  2.731644   \n",
              "9996    23.177211  6.798267          7.593421  0.248728  3.466552   \n",
              "9997    26.067436  6.946456          8.558713  0.147056  1.168374   \n",
              "9998    20.190299  6.860127          8.202689  0.106154  4.154619   \n",
              "9999    26.508601  7.125887          7.916992  0.225408  2.756589   \n",
              "\n",
              "         Fish Behavior  Fish Growth Rate Growth Stage   Leaf Area       Yield  \\\n",
              "9995    Active_feeding          0.541384    Flowering  282.305112  239.797245   \n",
              "9996  Active_schooling          0.529872    Flowering  285.729550  206.501989   \n",
              "9997  Resting_stressed          0.372223     Seedling  178.390434  212.476513   \n",
              "9998   Active_stressed          0.262685    Flowering  268.282296   75.650350   \n",
              "9999           Resting          0.449311    Flowering  212.705262  221.125883   \n",
              "\n",
              "     Fish Species Pairable Plant Species  Fish Success Rate  \\\n",
              "9995        Trout                Lettuce           0.795413   \n",
              "9996        Perch               Tomatoes           0.976280   \n",
              "9997        Perch               Tomatoes           0.778977   \n",
              "9998      Tilapia                Lettuce           0.908983   \n",
              "9999        Perch               Tomatoes           0.994097   \n",
              "\n",
              "      Plant Success Rate  \n",
              "9995            0.845483  \n",
              "9996            0.787923  \n",
              "9997            0.708185  \n",
              "9998            0.950096  \n",
              "9999            0.707818  "
            ],
            "text/html": [
              "\n",
              "  <div id=\"df-a6d3fc58-c7f5-47c8-a3b1-6fb1a377bafd\" class=\"colab-df-container\">\n",
              "    <div>\n",
              "<style scoped>\n",
              "    .dataframe tbody tr th:only-of-type {\n",
              "        vertical-align: middle;\n",
              "    }\n",
              "\n",
              "    .dataframe tbody tr th {\n",
              "        vertical-align: top;\n",
              "    }\n",
              "\n",
              "    .dataframe thead th {\n",
              "        text-align: right;\n",
              "    }\n",
              "</style>\n",
              "<table border=\"1\" class=\"dataframe\">\n",
              "  <thead>\n",
              "    <tr style=\"text-align: right;\">\n",
              "      <th></th>\n",
              "      <th>Temperature</th>\n",
              "      <th>pH</th>\n",
              "      <th>Dissolved Oxygen</th>\n",
              "      <th>Ammonia</th>\n",
              "      <th>Nitrate</th>\n",
              "      <th>Fish Behavior</th>\n",
              "      <th>Fish Growth Rate</th>\n",
              "      <th>Growth Stage</th>\n",
              "      <th>Leaf Area</th>\n",
              "      <th>Yield</th>\n",
              "      <th>Fish Species</th>\n",
              "      <th>Pairable Plant Species</th>\n",
              "      <th>Fish Success Rate</th>\n",
              "      <th>Plant Success Rate</th>\n",
              "    </tr>\n",
              "  </thead>\n",
              "  <tbody>\n",
              "    <tr>\n",
              "      <th>9995</th>\n",
              "      <td>24.403575</td>\n",
              "      <td>7.248175</td>\n",
              "      <td>7.867078</td>\n",
              "      <td>0.167096</td>\n",
              "      <td>2.731644</td>\n",
              "      <td>Active_feeding</td>\n",
              "      <td>0.541384</td>\n",
              "      <td>Flowering</td>\n",
              "      <td>282.305112</td>\n",
              "      <td>239.797245</td>\n",
              "      <td>Trout</td>\n",
              "      <td>Lettuce</td>\n",
              "      <td>0.795413</td>\n",
              "      <td>0.845483</td>\n",
              "    </tr>\n",
              "    <tr>\n",
              "      <th>9996</th>\n",
              "      <td>23.177211</td>\n",
              "      <td>6.798267</td>\n",
              "      <td>7.593421</td>\n",
              "      <td>0.248728</td>\n",
              "      <td>3.466552</td>\n",
              "      <td>Active_schooling</td>\n",
              "      <td>0.529872</td>\n",
              "      <td>Flowering</td>\n",
              "      <td>285.729550</td>\n",
              "      <td>206.501989</td>\n",
              "      <td>Perch</td>\n",
              "      <td>Tomatoes</td>\n",
              "      <td>0.976280</td>\n",
              "      <td>0.787923</td>\n",
              "    </tr>\n",
              "    <tr>\n",
              "      <th>9997</th>\n",
              "      <td>26.067436</td>\n",
              "      <td>6.946456</td>\n",
              "      <td>8.558713</td>\n",
              "      <td>0.147056</td>\n",
              "      <td>1.168374</td>\n",
              "      <td>Resting_stressed</td>\n",
              "      <td>0.372223</td>\n",
              "      <td>Seedling</td>\n",
              "      <td>178.390434</td>\n",
              "      <td>212.476513</td>\n",
              "      <td>Perch</td>\n",
              "      <td>Tomatoes</td>\n",
              "      <td>0.778977</td>\n",
              "      <td>0.708185</td>\n",
              "    </tr>\n",
              "    <tr>\n",
              "      <th>9998</th>\n",
              "      <td>20.190299</td>\n",
              "      <td>6.860127</td>\n",
              "      <td>8.202689</td>\n",
              "      <td>0.106154</td>\n",
              "      <td>4.154619</td>\n",
              "      <td>Active_stressed</td>\n",
              "      <td>0.262685</td>\n",
              "      <td>Flowering</td>\n",
              "      <td>268.282296</td>\n",
              "      <td>75.650350</td>\n",
              "      <td>Tilapia</td>\n",
              "      <td>Lettuce</td>\n",
              "      <td>0.908983</td>\n",
              "      <td>0.950096</td>\n",
              "    </tr>\n",
              "    <tr>\n",
              "      <th>9999</th>\n",
              "      <td>26.508601</td>\n",
              "      <td>7.125887</td>\n",
              "      <td>7.916992</td>\n",
              "      <td>0.225408</td>\n",
              "      <td>2.756589</td>\n",
              "      <td>Resting</td>\n",
              "      <td>0.449311</td>\n",
              "      <td>Flowering</td>\n",
              "      <td>212.705262</td>\n",
              "      <td>221.125883</td>\n",
              "      <td>Perch</td>\n",
              "      <td>Tomatoes</td>\n",
              "      <td>0.994097</td>\n",
              "      <td>0.707818</td>\n",
              "    </tr>\n",
              "  </tbody>\n",
              "</table>\n",
              "</div>\n",
              "    <div class=\"colab-df-buttons\">\n",
              "\n",
              "  <div class=\"colab-df-container\">\n",
              "    <button class=\"colab-df-convert\" onclick=\"convertToInteractive('df-a6d3fc58-c7f5-47c8-a3b1-6fb1a377bafd')\"\n",
              "            title=\"Convert this dataframe to an interactive table.\"\n",
              "            style=\"display:none;\">\n",
              "\n",
              "  <svg xmlns=\"http://www.w3.org/2000/svg\" height=\"24px\" viewBox=\"0 -960 960 960\">\n",
              "    <path d=\"M120-120v-720h720v720H120Zm60-500h600v-160H180v160Zm220 220h160v-160H400v160Zm0 220h160v-160H400v160ZM180-400h160v-160H180v160Zm440 0h160v-160H620v160ZM180-180h160v-160H180v160Zm440 0h160v-160H620v160Z\"/>\n",
              "  </svg>\n",
              "    </button>\n",
              "\n",
              "  <style>\n",
              "    .colab-df-container {\n",
              "      display:flex;\n",
              "      gap: 12px;\n",
              "    }\n",
              "\n",
              "    .colab-df-convert {\n",
              "      background-color: #E8F0FE;\n",
              "      border: none;\n",
              "      border-radius: 50%;\n",
              "      cursor: pointer;\n",
              "      display: none;\n",
              "      fill: #1967D2;\n",
              "      height: 32px;\n",
              "      padding: 0 0 0 0;\n",
              "      width: 32px;\n",
              "    }\n",
              "\n",
              "    .colab-df-convert:hover {\n",
              "      background-color: #E2EBFA;\n",
              "      box-shadow: 0px 1px 2px rgba(60, 64, 67, 0.3), 0px 1px 3px 1px rgba(60, 64, 67, 0.15);\n",
              "      fill: #174EA6;\n",
              "    }\n",
              "\n",
              "    .colab-df-buttons div {\n",
              "      margin-bottom: 4px;\n",
              "    }\n",
              "\n",
              "    [theme=dark] .colab-df-convert {\n",
              "      background-color: #3B4455;\n",
              "      fill: #D2E3FC;\n",
              "    }\n",
              "\n",
              "    [theme=dark] .colab-df-convert:hover {\n",
              "      background-color: #434B5C;\n",
              "      box-shadow: 0px 1px 3px 1px rgba(0, 0, 0, 0.15);\n",
              "      filter: drop-shadow(0px 1px 2px rgba(0, 0, 0, 0.3));\n",
              "      fill: #FFFFFF;\n",
              "    }\n",
              "  </style>\n",
              "\n",
              "    <script>\n",
              "      const buttonEl =\n",
              "        document.querySelector('#df-a6d3fc58-c7f5-47c8-a3b1-6fb1a377bafd button.colab-df-convert');\n",
              "      buttonEl.style.display =\n",
              "        google.colab.kernel.accessAllowed ? 'block' : 'none';\n",
              "\n",
              "      async function convertToInteractive(key) {\n",
              "        const element = document.querySelector('#df-a6d3fc58-c7f5-47c8-a3b1-6fb1a377bafd');\n",
              "        const dataTable =\n",
              "          await google.colab.kernel.invokeFunction('convertToInteractive',\n",
              "                                                    [key], {});\n",
              "        if (!dataTable) return;\n",
              "\n",
              "        const docLinkHtml = 'Like what you see? Visit the ' +\n",
              "          '<a target=\"_blank\" href=https://colab.research.google.com/notebooks/data_table.ipynb>data table notebook</a>'\n",
              "          + ' to learn more about interactive tables.';\n",
              "        element.innerHTML = '';\n",
              "        dataTable['output_type'] = 'display_data';\n",
              "        await google.colab.output.renderOutput(dataTable, element);\n",
              "        const docLink = document.createElement('div');\n",
              "        docLink.innerHTML = docLinkHtml;\n",
              "        element.appendChild(docLink);\n",
              "      }\n",
              "    </script>\n",
              "  </div>\n",
              "\n",
              "\n",
              "<div id=\"df-28b5bd8c-2af8-4513-9f3d-0b08099b1050\">\n",
              "  <button class=\"colab-df-quickchart\" onclick=\"quickchart('df-28b5bd8c-2af8-4513-9f3d-0b08099b1050')\"\n",
              "            title=\"Suggest charts\"\n",
              "            style=\"display:none;\">\n",
              "\n",
              "<svg xmlns=\"http://www.w3.org/2000/svg\" height=\"24px\"viewBox=\"0 0 24 24\"\n",
              "     width=\"24px\">\n",
              "    <g>\n",
              "        <path d=\"M19 3H5c-1.1 0-2 .9-2 2v14c0 1.1.9 2 2 2h14c1.1 0 2-.9 2-2V5c0-1.1-.9-2-2-2zM9 17H7v-7h2v7zm4 0h-2V7h2v10zm4 0h-2v-4h2v4z\"/>\n",
              "    </g>\n",
              "</svg>\n",
              "  </button>\n",
              "\n",
              "<style>\n",
              "  .colab-df-quickchart {\n",
              "      --bg-color: #E8F0FE;\n",
              "      --fill-color: #1967D2;\n",
              "      --hover-bg-color: #E2EBFA;\n",
              "      --hover-fill-color: #174EA6;\n",
              "      --disabled-fill-color: #AAA;\n",
              "      --disabled-bg-color: #DDD;\n",
              "  }\n",
              "\n",
              "  [theme=dark] .colab-df-quickchart {\n",
              "      --bg-color: #3B4455;\n",
              "      --fill-color: #D2E3FC;\n",
              "      --hover-bg-color: #434B5C;\n",
              "      --hover-fill-color: #FFFFFF;\n",
              "      --disabled-bg-color: #3B4455;\n",
              "      --disabled-fill-color: #666;\n",
              "  }\n",
              "\n",
              "  .colab-df-quickchart {\n",
              "    background-color: var(--bg-color);\n",
              "    border: none;\n",
              "    border-radius: 50%;\n",
              "    cursor: pointer;\n",
              "    display: none;\n",
              "    fill: var(--fill-color);\n",
              "    height: 32px;\n",
              "    padding: 0;\n",
              "    width: 32px;\n",
              "  }\n",
              "\n",
              "  .colab-df-quickchart:hover {\n",
              "    background-color: var(--hover-bg-color);\n",
              "    box-shadow: 0 1px 2px rgba(60, 64, 67, 0.3), 0 1px 3px 1px rgba(60, 64, 67, 0.15);\n",
              "    fill: var(--button-hover-fill-color);\n",
              "  }\n",
              "\n",
              "  .colab-df-quickchart-complete:disabled,\n",
              "  .colab-df-quickchart-complete:disabled:hover {\n",
              "    background-color: var(--disabled-bg-color);\n",
              "    fill: var(--disabled-fill-color);\n",
              "    box-shadow: none;\n",
              "  }\n",
              "\n",
              "  .colab-df-spinner {\n",
              "    border: 2px solid var(--fill-color);\n",
              "    border-color: transparent;\n",
              "    border-bottom-color: var(--fill-color);\n",
              "    animation:\n",
              "      spin 1s steps(1) infinite;\n",
              "  }\n",
              "\n",
              "  @keyframes spin {\n",
              "    0% {\n",
              "      border-color: transparent;\n",
              "      border-bottom-color: var(--fill-color);\n",
              "      border-left-color: var(--fill-color);\n",
              "    }\n",
              "    20% {\n",
              "      border-color: transparent;\n",
              "      border-left-color: var(--fill-color);\n",
              "      border-top-color: var(--fill-color);\n",
              "    }\n",
              "    30% {\n",
              "      border-color: transparent;\n",
              "      border-left-color: var(--fill-color);\n",
              "      border-top-color: var(--fill-color);\n",
              "      border-right-color: var(--fill-color);\n",
              "    }\n",
              "    40% {\n",
              "      border-color: transparent;\n",
              "      border-right-color: var(--fill-color);\n",
              "      border-top-color: var(--fill-color);\n",
              "    }\n",
              "    60% {\n",
              "      border-color: transparent;\n",
              "      border-right-color: var(--fill-color);\n",
              "    }\n",
              "    80% {\n",
              "      border-color: transparent;\n",
              "      border-right-color: var(--fill-color);\n",
              "      border-bottom-color: var(--fill-color);\n",
              "    }\n",
              "    90% {\n",
              "      border-color: transparent;\n",
              "      border-bottom-color: var(--fill-color);\n",
              "    }\n",
              "  }\n",
              "</style>\n",
              "\n",
              "  <script>\n",
              "    async function quickchart(key) {\n",
              "      const quickchartButtonEl =\n",
              "        document.querySelector('#' + key + ' button');\n",
              "      quickchartButtonEl.disabled = true;  // To prevent multiple clicks.\n",
              "      quickchartButtonEl.classList.add('colab-df-spinner');\n",
              "      try {\n",
              "        const charts = await google.colab.kernel.invokeFunction(\n",
              "            'suggestCharts', [key], {});\n",
              "      } catch (error) {\n",
              "        console.error('Error during call to suggestCharts:', error);\n",
              "      }\n",
              "      quickchartButtonEl.classList.remove('colab-df-spinner');\n",
              "      quickchartButtonEl.classList.add('colab-df-quickchart-complete');\n",
              "    }\n",
              "    (() => {\n",
              "      let quickchartButtonEl =\n",
              "        document.querySelector('#df-28b5bd8c-2af8-4513-9f3d-0b08099b1050 button');\n",
              "      quickchartButtonEl.style.display =\n",
              "        google.colab.kernel.accessAllowed ? 'block' : 'none';\n",
              "    })();\n",
              "  </script>\n",
              "</div>\n",
              "\n",
              "    </div>\n",
              "  </div>\n"
            ]
          },
          "metadata": {},
          "execution_count": 24
        }
      ]
    },
    {
      "cell_type": "code",
      "source": [
        "data.shape"
      ],
      "metadata": {
        "colab": {
          "base_uri": "https://localhost:8080/"
        },
        "id": "Wd6RL7Er8_HR",
        "outputId": "8cfba5cf-849f-46e6-aa10-06917192a2ce"
      },
      "execution_count": 25,
      "outputs": [
        {
          "output_type": "execute_result",
          "data": {
            "text/plain": [
              "(10000, 14)"
            ]
          },
          "metadata": {},
          "execution_count": 25
        }
      ]
    },
    {
      "cell_type": "code",
      "source": [
        "data.describe()"
      ],
      "metadata": {
        "colab": {
          "base_uri": "https://localhost:8080/",
          "height": 355
        },
        "id": "XwBgfGKS9B10",
        "outputId": "e95efc54-485f-465b-f470-02da7a2529e6"
      },
      "execution_count": 26,
      "outputs": [
        {
          "output_type": "execute_result",
          "data": {
            "text/plain": [
              "       Temperature           pH  Dissolved Oxygen      Ammonia      Nitrate  \\\n",
              "count  9997.000000  9999.000000       9999.000000  9999.000000  9999.000000   \n",
              "mean     23.974360     6.995996          7.500281     0.124589     2.504752   \n",
              "std       2.317979     0.294095          0.871729     0.071870     1.449822   \n",
              "min      20.000580     6.500166          2.345607     0.000094     0.001000   \n",
              "25%      21.966183     6.742946          6.745925     0.062120     1.241943   \n",
              "50%      23.950404     6.993295          7.515921     0.123849     2.518312   \n",
              "75%      25.987454     7.250001          8.253838     0.186745     3.756890   \n",
              "max      29.992042     9.144934          9.747073     0.249980     9.219528   \n",
              "\n",
              "       Fish Growth Rate     Leaf Area         Yield  Fish Success Rate  \\\n",
              "count       9999.000000  10000.000000  10000.000000       10000.000000   \n",
              "mean           0.400149    200.128729    175.437299           0.850920   \n",
              "std            0.114899     57.844175     72.528195           0.086962   \n",
              "min            0.200021    100.004247     50.040572           0.700009   \n",
              "25%            0.300805    150.036331    113.143542           0.775047   \n",
              "50%            0.400268    200.130977    175.096070           0.851872   \n",
              "75%            0.500285    249.735179    238.301026           0.926892   \n",
              "max            0.599969    299.982933    299.988276           0.999996   \n",
              "\n",
              "       Plant Success Rate  \n",
              "count        10000.000000  \n",
              "mean             0.850375  \n",
              "std              0.086962  \n",
              "min              0.700009  \n",
              "25%              0.774862  \n",
              "50%              0.850335  \n",
              "75%              0.925199  \n",
              "max              0.999914  "
            ],
            "text/html": [
              "\n",
              "  <div id=\"df-6cf0cb98-97bb-4c25-b3c3-c5a550cedb04\" class=\"colab-df-container\">\n",
              "    <div>\n",
              "<style scoped>\n",
              "    .dataframe tbody tr th:only-of-type {\n",
              "        vertical-align: middle;\n",
              "    }\n",
              "\n",
              "    .dataframe tbody tr th {\n",
              "        vertical-align: top;\n",
              "    }\n",
              "\n",
              "    .dataframe thead th {\n",
              "        text-align: right;\n",
              "    }\n",
              "</style>\n",
              "<table border=\"1\" class=\"dataframe\">\n",
              "  <thead>\n",
              "    <tr style=\"text-align: right;\">\n",
              "      <th></th>\n",
              "      <th>Temperature</th>\n",
              "      <th>pH</th>\n",
              "      <th>Dissolved Oxygen</th>\n",
              "      <th>Ammonia</th>\n",
              "      <th>Nitrate</th>\n",
              "      <th>Fish Growth Rate</th>\n",
              "      <th>Leaf Area</th>\n",
              "      <th>Yield</th>\n",
              "      <th>Fish Success Rate</th>\n",
              "      <th>Plant Success Rate</th>\n",
              "    </tr>\n",
              "  </thead>\n",
              "  <tbody>\n",
              "    <tr>\n",
              "      <th>count</th>\n",
              "      <td>9997.000000</td>\n",
              "      <td>9999.000000</td>\n",
              "      <td>9999.000000</td>\n",
              "      <td>9999.000000</td>\n",
              "      <td>9999.000000</td>\n",
              "      <td>9999.000000</td>\n",
              "      <td>10000.000000</td>\n",
              "      <td>10000.000000</td>\n",
              "      <td>10000.000000</td>\n",
              "      <td>10000.000000</td>\n",
              "    </tr>\n",
              "    <tr>\n",
              "      <th>mean</th>\n",
              "      <td>23.974360</td>\n",
              "      <td>6.995996</td>\n",
              "      <td>7.500281</td>\n",
              "      <td>0.124589</td>\n",
              "      <td>2.504752</td>\n",
              "      <td>0.400149</td>\n",
              "      <td>200.128729</td>\n",
              "      <td>175.437299</td>\n",
              "      <td>0.850920</td>\n",
              "      <td>0.850375</td>\n",
              "    </tr>\n",
              "    <tr>\n",
              "      <th>std</th>\n",
              "      <td>2.317979</td>\n",
              "      <td>0.294095</td>\n",
              "      <td>0.871729</td>\n",
              "      <td>0.071870</td>\n",
              "      <td>1.449822</td>\n",
              "      <td>0.114899</td>\n",
              "      <td>57.844175</td>\n",
              "      <td>72.528195</td>\n",
              "      <td>0.086962</td>\n",
              "      <td>0.086962</td>\n",
              "    </tr>\n",
              "    <tr>\n",
              "      <th>min</th>\n",
              "      <td>20.000580</td>\n",
              "      <td>6.500166</td>\n",
              "      <td>2.345607</td>\n",
              "      <td>0.000094</td>\n",
              "      <td>0.001000</td>\n",
              "      <td>0.200021</td>\n",
              "      <td>100.004247</td>\n",
              "      <td>50.040572</td>\n",
              "      <td>0.700009</td>\n",
              "      <td>0.700009</td>\n",
              "    </tr>\n",
              "    <tr>\n",
              "      <th>25%</th>\n",
              "      <td>21.966183</td>\n",
              "      <td>6.742946</td>\n",
              "      <td>6.745925</td>\n",
              "      <td>0.062120</td>\n",
              "      <td>1.241943</td>\n",
              "      <td>0.300805</td>\n",
              "      <td>150.036331</td>\n",
              "      <td>113.143542</td>\n",
              "      <td>0.775047</td>\n",
              "      <td>0.774862</td>\n",
              "    </tr>\n",
              "    <tr>\n",
              "      <th>50%</th>\n",
              "      <td>23.950404</td>\n",
              "      <td>6.993295</td>\n",
              "      <td>7.515921</td>\n",
              "      <td>0.123849</td>\n",
              "      <td>2.518312</td>\n",
              "      <td>0.400268</td>\n",
              "      <td>200.130977</td>\n",
              "      <td>175.096070</td>\n",
              "      <td>0.851872</td>\n",
              "      <td>0.850335</td>\n",
              "    </tr>\n",
              "    <tr>\n",
              "      <th>75%</th>\n",
              "      <td>25.987454</td>\n",
              "      <td>7.250001</td>\n",
              "      <td>8.253838</td>\n",
              "      <td>0.186745</td>\n",
              "      <td>3.756890</td>\n",
              "      <td>0.500285</td>\n",
              "      <td>249.735179</td>\n",
              "      <td>238.301026</td>\n",
              "      <td>0.926892</td>\n",
              "      <td>0.925199</td>\n",
              "    </tr>\n",
              "    <tr>\n",
              "      <th>max</th>\n",
              "      <td>29.992042</td>\n",
              "      <td>9.144934</td>\n",
              "      <td>9.747073</td>\n",
              "      <td>0.249980</td>\n",
              "      <td>9.219528</td>\n",
              "      <td>0.599969</td>\n",
              "      <td>299.982933</td>\n",
              "      <td>299.988276</td>\n",
              "      <td>0.999996</td>\n",
              "      <td>0.999914</td>\n",
              "    </tr>\n",
              "  </tbody>\n",
              "</table>\n",
              "</div>\n",
              "    <div class=\"colab-df-buttons\">\n",
              "\n",
              "  <div class=\"colab-df-container\">\n",
              "    <button class=\"colab-df-convert\" onclick=\"convertToInteractive('df-6cf0cb98-97bb-4c25-b3c3-c5a550cedb04')\"\n",
              "            title=\"Convert this dataframe to an interactive table.\"\n",
              "            style=\"display:none;\">\n",
              "\n",
              "  <svg xmlns=\"http://www.w3.org/2000/svg\" height=\"24px\" viewBox=\"0 -960 960 960\">\n",
              "    <path d=\"M120-120v-720h720v720H120Zm60-500h600v-160H180v160Zm220 220h160v-160H400v160Zm0 220h160v-160H400v160ZM180-400h160v-160H180v160Zm440 0h160v-160H620v160ZM180-180h160v-160H180v160Zm440 0h160v-160H620v160Z\"/>\n",
              "  </svg>\n",
              "    </button>\n",
              "\n",
              "  <style>\n",
              "    .colab-df-container {\n",
              "      display:flex;\n",
              "      gap: 12px;\n",
              "    }\n",
              "\n",
              "    .colab-df-convert {\n",
              "      background-color: #E8F0FE;\n",
              "      border: none;\n",
              "      border-radius: 50%;\n",
              "      cursor: pointer;\n",
              "      display: none;\n",
              "      fill: #1967D2;\n",
              "      height: 32px;\n",
              "      padding: 0 0 0 0;\n",
              "      width: 32px;\n",
              "    }\n",
              "\n",
              "    .colab-df-convert:hover {\n",
              "      background-color: #E2EBFA;\n",
              "      box-shadow: 0px 1px 2px rgba(60, 64, 67, 0.3), 0px 1px 3px 1px rgba(60, 64, 67, 0.15);\n",
              "      fill: #174EA6;\n",
              "    }\n",
              "\n",
              "    .colab-df-buttons div {\n",
              "      margin-bottom: 4px;\n",
              "    }\n",
              "\n",
              "    [theme=dark] .colab-df-convert {\n",
              "      background-color: #3B4455;\n",
              "      fill: #D2E3FC;\n",
              "    }\n",
              "\n",
              "    [theme=dark] .colab-df-convert:hover {\n",
              "      background-color: #434B5C;\n",
              "      box-shadow: 0px 1px 3px 1px rgba(0, 0, 0, 0.15);\n",
              "      filter: drop-shadow(0px 1px 2px rgba(0, 0, 0, 0.3));\n",
              "      fill: #FFFFFF;\n",
              "    }\n",
              "  </style>\n",
              "\n",
              "    <script>\n",
              "      const buttonEl =\n",
              "        document.querySelector('#df-6cf0cb98-97bb-4c25-b3c3-c5a550cedb04 button.colab-df-convert');\n",
              "      buttonEl.style.display =\n",
              "        google.colab.kernel.accessAllowed ? 'block' : 'none';\n",
              "\n",
              "      async function convertToInteractive(key) {\n",
              "        const element = document.querySelector('#df-6cf0cb98-97bb-4c25-b3c3-c5a550cedb04');\n",
              "        const dataTable =\n",
              "          await google.colab.kernel.invokeFunction('convertToInteractive',\n",
              "                                                    [key], {});\n",
              "        if (!dataTable) return;\n",
              "\n",
              "        const docLinkHtml = 'Like what you see? Visit the ' +\n",
              "          '<a target=\"_blank\" href=https://colab.research.google.com/notebooks/data_table.ipynb>data table notebook</a>'\n",
              "          + ' to learn more about interactive tables.';\n",
              "        element.innerHTML = '';\n",
              "        dataTable['output_type'] = 'display_data';\n",
              "        await google.colab.output.renderOutput(dataTable, element);\n",
              "        const docLink = document.createElement('div');\n",
              "        docLink.innerHTML = docLinkHtml;\n",
              "        element.appendChild(docLink);\n",
              "      }\n",
              "    </script>\n",
              "  </div>\n",
              "\n",
              "\n",
              "<div id=\"df-003803ac-80a0-4def-aa93-a467c9f4bbd3\">\n",
              "  <button class=\"colab-df-quickchart\" onclick=\"quickchart('df-003803ac-80a0-4def-aa93-a467c9f4bbd3')\"\n",
              "            title=\"Suggest charts\"\n",
              "            style=\"display:none;\">\n",
              "\n",
              "<svg xmlns=\"http://www.w3.org/2000/svg\" height=\"24px\"viewBox=\"0 0 24 24\"\n",
              "     width=\"24px\">\n",
              "    <g>\n",
              "        <path d=\"M19 3H5c-1.1 0-2 .9-2 2v14c0 1.1.9 2 2 2h14c1.1 0 2-.9 2-2V5c0-1.1-.9-2-2-2zM9 17H7v-7h2v7zm4 0h-2V7h2v10zm4 0h-2v-4h2v4z\"/>\n",
              "    </g>\n",
              "</svg>\n",
              "  </button>\n",
              "\n",
              "<style>\n",
              "  .colab-df-quickchart {\n",
              "      --bg-color: #E8F0FE;\n",
              "      --fill-color: #1967D2;\n",
              "      --hover-bg-color: #E2EBFA;\n",
              "      --hover-fill-color: #174EA6;\n",
              "      --disabled-fill-color: #AAA;\n",
              "      --disabled-bg-color: #DDD;\n",
              "  }\n",
              "\n",
              "  [theme=dark] .colab-df-quickchart {\n",
              "      --bg-color: #3B4455;\n",
              "      --fill-color: #D2E3FC;\n",
              "      --hover-bg-color: #434B5C;\n",
              "      --hover-fill-color: #FFFFFF;\n",
              "      --disabled-bg-color: #3B4455;\n",
              "      --disabled-fill-color: #666;\n",
              "  }\n",
              "\n",
              "  .colab-df-quickchart {\n",
              "    background-color: var(--bg-color);\n",
              "    border: none;\n",
              "    border-radius: 50%;\n",
              "    cursor: pointer;\n",
              "    display: none;\n",
              "    fill: var(--fill-color);\n",
              "    height: 32px;\n",
              "    padding: 0;\n",
              "    width: 32px;\n",
              "  }\n",
              "\n",
              "  .colab-df-quickchart:hover {\n",
              "    background-color: var(--hover-bg-color);\n",
              "    box-shadow: 0 1px 2px rgba(60, 64, 67, 0.3), 0 1px 3px 1px rgba(60, 64, 67, 0.15);\n",
              "    fill: var(--button-hover-fill-color);\n",
              "  }\n",
              "\n",
              "  .colab-df-quickchart-complete:disabled,\n",
              "  .colab-df-quickchart-complete:disabled:hover {\n",
              "    background-color: var(--disabled-bg-color);\n",
              "    fill: var(--disabled-fill-color);\n",
              "    box-shadow: none;\n",
              "  }\n",
              "\n",
              "  .colab-df-spinner {\n",
              "    border: 2px solid var(--fill-color);\n",
              "    border-color: transparent;\n",
              "    border-bottom-color: var(--fill-color);\n",
              "    animation:\n",
              "      spin 1s steps(1) infinite;\n",
              "  }\n",
              "\n",
              "  @keyframes spin {\n",
              "    0% {\n",
              "      border-color: transparent;\n",
              "      border-bottom-color: var(--fill-color);\n",
              "      border-left-color: var(--fill-color);\n",
              "    }\n",
              "    20% {\n",
              "      border-color: transparent;\n",
              "      border-left-color: var(--fill-color);\n",
              "      border-top-color: var(--fill-color);\n",
              "    }\n",
              "    30% {\n",
              "      border-color: transparent;\n",
              "      border-left-color: var(--fill-color);\n",
              "      border-top-color: var(--fill-color);\n",
              "      border-right-color: var(--fill-color);\n",
              "    }\n",
              "    40% {\n",
              "      border-color: transparent;\n",
              "      border-right-color: var(--fill-color);\n",
              "      border-top-color: var(--fill-color);\n",
              "    }\n",
              "    60% {\n",
              "      border-color: transparent;\n",
              "      border-right-color: var(--fill-color);\n",
              "    }\n",
              "    80% {\n",
              "      border-color: transparent;\n",
              "      border-right-color: var(--fill-color);\n",
              "      border-bottom-color: var(--fill-color);\n",
              "    }\n",
              "    90% {\n",
              "      border-color: transparent;\n",
              "      border-bottom-color: var(--fill-color);\n",
              "    }\n",
              "  }\n",
              "</style>\n",
              "\n",
              "  <script>\n",
              "    async function quickchart(key) {\n",
              "      const quickchartButtonEl =\n",
              "        document.querySelector('#' + key + ' button');\n",
              "      quickchartButtonEl.disabled = true;  // To prevent multiple clicks.\n",
              "      quickchartButtonEl.classList.add('colab-df-spinner');\n",
              "      try {\n",
              "        const charts = await google.colab.kernel.invokeFunction(\n",
              "            'suggestCharts', [key], {});\n",
              "      } catch (error) {\n",
              "        console.error('Error during call to suggestCharts:', error);\n",
              "      }\n",
              "      quickchartButtonEl.classList.remove('colab-df-spinner');\n",
              "      quickchartButtonEl.classList.add('colab-df-quickchart-complete');\n",
              "    }\n",
              "    (() => {\n",
              "      let quickchartButtonEl =\n",
              "        document.querySelector('#df-003803ac-80a0-4def-aa93-a467c9f4bbd3 button');\n",
              "      quickchartButtonEl.style.display =\n",
              "        google.colab.kernel.accessAllowed ? 'block' : 'none';\n",
              "    })();\n",
              "  </script>\n",
              "</div>\n",
              "\n",
              "    </div>\n",
              "  </div>\n"
            ]
          },
          "metadata": {},
          "execution_count": 26
        }
      ]
    },
    {
      "cell_type": "code",
      "source": [
        "data.info()"
      ],
      "metadata": {
        "colab": {
          "base_uri": "https://localhost:8080/"
        },
        "id": "2KfK_RUR9EAH",
        "outputId": "e296e701-79f6-4b4e-eaeb-a5537a73ef47"
      },
      "execution_count": 27,
      "outputs": [
        {
          "output_type": "stream",
          "name": "stdout",
          "text": [
            "<class 'pandas.core.frame.DataFrame'>\n",
            "RangeIndex: 10000 entries, 0 to 9999\n",
            "Data columns (total 14 columns):\n",
            " #   Column                  Non-Null Count  Dtype  \n",
            "---  ------                  --------------  -----  \n",
            " 0   Temperature             9997 non-null   float64\n",
            " 1   pH                      9999 non-null   float64\n",
            " 2   Dissolved Oxygen        9999 non-null   float64\n",
            " 3   Ammonia                 9999 non-null   float64\n",
            " 4   Nitrate                 9999 non-null   float64\n",
            " 5   Fish Behavior           10000 non-null  object \n",
            " 6   Fish Growth Rate        9999 non-null   float64\n",
            " 7   Growth Stage            10000 non-null  object \n",
            " 8   Leaf Area               10000 non-null  float64\n",
            " 9   Yield                   10000 non-null  float64\n",
            " 10  Fish Species            10000 non-null  object \n",
            " 11  Pairable Plant Species  10000 non-null  object \n",
            " 12  Fish Success Rate       10000 non-null  float64\n",
            " 13  Plant Success Rate      10000 non-null  float64\n",
            "dtypes: float64(10), object(4)\n",
            "memory usage: 1.1+ MB\n"
          ]
        }
      ]
    },
    {
      "cell_type": "code",
      "source": [
        "#to count the number of missing values.\n",
        "data.isnull().sum()"
      ],
      "metadata": {
        "colab": {
          "base_uri": "https://localhost:8080/"
        },
        "id": "jHWaE3T49Gka",
        "outputId": "6bd066af-a0d7-43b2-c166-1d4ebe96aaab"
      },
      "execution_count": 28,
      "outputs": [
        {
          "output_type": "execute_result",
          "data": {
            "text/plain": [
              "Temperature               3\n",
              "pH                        1\n",
              "Dissolved Oxygen          1\n",
              "Ammonia                   1\n",
              "Nitrate                   1\n",
              "Fish Behavior             0\n",
              "Fish Growth Rate          1\n",
              "Growth Stage              0\n",
              "Leaf Area                 0\n",
              "Yield                     0\n",
              "Fish Species              0\n",
              "Pairable Plant Species    0\n",
              "Fish Success Rate         0\n",
              "Plant Success Rate        0\n",
              "dtype: int64"
            ]
          },
          "metadata": {},
          "execution_count": 28
        }
      ]
    },
    {
      "cell_type": "code",
      "source": [
        "data = data.dropna()"
      ],
      "metadata": {
        "id": "tDdUYu6J9JTe"
      },
      "execution_count": 29,
      "outputs": []
    },
    {
      "cell_type": "code",
      "source": [
        "#To identify duplicate rows in DataFrame\n",
        "data.duplicated().sum()"
      ],
      "metadata": {
        "colab": {
          "base_uri": "https://localhost:8080/"
        },
        "id": "47vU04O09Sb7",
        "outputId": "f7c25144-f836-42b7-9629-94860277a052"
      },
      "execution_count": 30,
      "outputs": [
        {
          "output_type": "execute_result",
          "data": {
            "text/plain": [
              "5"
            ]
          },
          "metadata": {},
          "execution_count": 30
        }
      ]
    },
    {
      "cell_type": "code",
      "source": [
        "data = data.drop_duplicates()"
      ],
      "metadata": {
        "id": "T0CeiEy89VFQ"
      },
      "execution_count": 31,
      "outputs": []
    },
    {
      "cell_type": "code",
      "source": [
        "#Creating a new column called 'Total Success Rate'\n",
        "data['Total Success Rate'] = (data['Fish Success Rate'] + data['Plant Success Rate']) / 2"
      ],
      "metadata": {
        "id": "AiUPcaP69XQ2"
      },
      "execution_count": 32,
      "outputs": []
    },
    {
      "cell_type": "code",
      "source": [
        "import pandas as pd\n",
        "import seaborn as sns\n",
        "import matplotlib.pyplot as plt\n",
        "\n",
        "correlation_matrix = data.corr()\n",
        "plt.figure(figsize=(10, 8))\n",
        "sns.heatmap(correlation_matrix, annot=True, cmap='coolwarm', fmt=\".2f\")\n",
        "plt.title('Correlation Matrix of Features')\n",
        "plt.show()\n",
        "target_corr = correlation_matrix['Total Success Rate'].sort_values(ascending=False)\n",
        "print(\"Correlation of Features with Total Success Rate:\")\n",
        "print(target_corr)"
      ],
      "metadata": {
        "colab": {
          "base_uri": "https://localhost:8080/",
          "height": 1000
        },
        "id": "ywa30ZLo9bAc",
        "outputId": "361ffd24-91ba-4a1f-d803-7fa4f1ea673f"
      },
      "execution_count": 33,
      "outputs": [
        {
          "output_type": "stream",
          "name": "stderr",
          "text": [
            "<ipython-input-33-685fec648cab>:5: FutureWarning: The default value of numeric_only in DataFrame.corr is deprecated. In a future version, it will default to False. Select only valid columns or specify the value of numeric_only to silence this warning.\n",
            "  correlation_matrix = data.corr()\n"
          ]
        },
        {
          "output_type": "display_data",
          "data": {
            "text/plain": [
              "<Figure size 1000x800 with 2 Axes>"
            ],
            "image/png": "[encoded data removed]"
          },
          "metadata": {}
        },
        {
          "output_type": "stream",
          "name": "stdout",
          "text": [
            "Correlation of Features with Total Success Rate:\n",
            "Total Success Rate    1.000000\n",
            "Fish Success Rate     0.704000\n",
            "Plant Success Rate    0.703968\n",
            "Dissolved Oxygen      0.006520\n",
            "pH                    0.006470\n",
            "Yield                -0.001664\n",
            "Leaf Area            -0.001829\n",
            "Temperature          -0.003669\n",
            "Nitrate              -0.008657\n",
            "Fish Growth Rate     -0.012412\n",
            "Ammonia              -0.016038\n",
            "Name: Total Success Rate, dtype: float64\n"
          ]
        }
      ]
    },
    {
      "cell_type": "code",
      "source": [
        "# Creating a new column 'Success Class' based on the threshold.\n",
        "threshold = 0.75\n",
        "data['Success Class'] = data['Total Success Rate'].apply(lambda x: 'Yes' if x > threshold else 'No')"
      ],
      "metadata": {
        "id": "6Yptr7xY9emv"
      },
      "execution_count": 34,
      "outputs": []
    },
    {
      "cell_type": "code",
      "source": [
        "data.drop(['Fish Success Rate','Plant Success Rate'],axis=1 , inplace= True )"
      ],
      "metadata": {
        "id": "jig5z9Mx9l0J"
      },
      "execution_count": 36,
      "outputs": []
    },
    {
      "cell_type": "code",
      "source": [
        "#Detecting and visualizing outliers in a dataset using boxplots.\n",
        "import matplotlib.pyplot as plt\n",
        "numerical_columns = ['Temperature', 'pH', 'Dissolved Oxygen', 'Ammonia', 'Nitrate', 'Fish Growth Rate', 'Leaf Area', 'Yield']\n",
        "outliers = {}\n",
        "for column in numerical_columns:\n",
        "    Q1 = data[column].quantile(0.25)\n",
        "    Q3 = data[column].quantile(0.75)\n",
        "    IQR = Q3 - Q1\n",
        "    lower_bound = Q1 - 1.5 * IQR\n",
        "    upper_bound = Q3 + 1.5 * IQR\n",
        "    outliers[column] = data[(data[column] < lower_bound) | (data[column] > upper_bound)]\n",
        "plt.figure(figsize=(12, 6))\n",
        "for i, column in enumerate(numerical_columns, start=1):\n",
        "    plt.subplot(2, 4, i)\n",
        "    plt.boxplot(data[column])\n",
        "    plt.title(column)\n",
        "plt.tight_layout()\n",
        "plt.show()\n",
        "\n",
        "for column, outlier_df in outliers.items():\n",
        "    if not outlier_df.empty:\n",
        "        print(f\"Outliers in {column}:\")\n",
        "        print(outlier_df)"
      ],
      "metadata": {
        "colab": {
          "base_uri": "https://localhost:8080/",
          "height": 1000
        },
        "id": "cNeEvGVz9pQm",
        "outputId": "7b17ce7d-1b6f-4f82-b212-2d764b0c1534"
      },
      "execution_count": 37,
      "outputs": [
        {
          "output_type": "display_data",
          "data": {
            "text/plain": [
              "<Figure size 1200x600 with 8 Axes>"
            ],
            "image/png": "[encoded data removed]"
          },
          "metadata": {}
        },
        {
          "output_type": "stream",
          "name": "stdout",
          "text": [
            "Outliers in pH:\n",
            "     Temperature        pH  Dissolved Oxygen   Ammonia   Nitrate  \\\n",
            "45     25.365103  8.752596          8.015988  0.036960  0.718734   \n",
            "192    21.489544  8.870296          8.362887  0.056530  4.677818   \n",
            "289    25.115780  9.144934          6.456235  0.203433  4.316118   \n",
            "391    23.392258  9.000000          7.854446  0.212069  3.137213   \n",
            "502    24.199764  8.097519          8.046604  0.065004  3.179103   \n",
            "\n",
            "        Fish Behavior  Fish Growth Rate   Growth Stage   Leaf Area  \\\n",
            "45   Resting_stressed          0.370901       Seedling  143.198121   \n",
            "192   Active_stressed          0.548028       Seedling  268.891843   \n",
            "289   Active_stressed          0.201814     Vegetative  169.054526   \n",
            "391           Resting          0.515838  Fruit_Setting  189.557751   \n",
            "502           Resting          0.478974  Fruit_Setting  127.752348   \n",
            "\n",
            "          Yield Fish Species Pairable Plant Species  Total Success Rate  \\\n",
            "45   257.718426        Trout                  Basil            0.835248   \n",
            "192  119.634709        Perch                Lettuce            0.769405   \n",
            "289  272.119728      Tilapia               Tomatoes            0.770230   \n",
            "391  249.542022        Trout                Lettuce            0.800130   \n",
            "502  199.002469        Perch                Lettuce            0.842951   \n",
            "\n",
            "    Success Class  \n",
            "45            Yes  \n",
            "192           Yes  \n",
            "289           Yes  \n",
            "391           Yes  \n",
            "502           Yes  \n",
            "Outliers in Dissolved Oxygen:\n",
            "     Temperature        pH  Dissolved Oxygen   Ammonia   Nitrate  \\\n",
            "90     22.548552  6.958724          3.840715  0.081735  3.265600   \n",
            "164    27.804172  6.975013          2.345607  0.238892  3.613713   \n",
            "399    21.481859  7.496702          3.173152  0.141816  2.358167   \n",
            "\n",
            "    Fish Behavior  Fish Growth Rate Growth Stage   Leaf Area       Yield  \\\n",
            "90        Resting          0.265448   Vegetative  177.672958  283.206445   \n",
            "164       Resting          0.297763    Flowering  221.956103   65.877743   \n",
            "399       Resting          0.323042   Vegetative  148.635340   65.839659   \n",
            "\n",
            "    Fish Species Pairable Plant Species  Total Success Rate Success Class  \n",
            "90         Trout               Tomatoes            0.821469           Yes  \n",
            "164        Perch               Tomatoes            0.838742           Yes  \n",
            "399        Trout                  Basil            0.876633           Yes  \n",
            "Outliers in Nitrate:\n",
            "     Temperature        pH  Dissolved Oxygen   Ammonia   Nitrate  \\\n",
            "42     25.581050  7.280236          8.693472  0.135966  9.017717   \n",
            "53     20.816358  6.925948          8.986111  0.215662  7.770671   \n",
            "88     24.607572  7.125658          8.742612  0.033130  9.219528   \n",
            "121    24.010595  7.004859          6.734876  0.002481  9.000000   \n",
            "269    23.885021  6.894238          6.350975  0.243381  8.028533   \n",
            "\n",
            "        Fish Behavior  Fish Growth Rate   Growth Stage   Leaf Area  \\\n",
            "42   Active_schooling          0.538686  Fruit_Setting  239.963843   \n",
            "53   Resting_stressed          0.435912     Vegetative  240.487254   \n",
            "88     Active_feeding          0.376693  Fruit_Setting  252.111567   \n",
            "121  Resting_stressed          0.470456  Fruit_Setting  228.890518   \n",
            "269    Active_feeding          0.442927       Seedling  163.634854   \n",
            "\n",
            "          Yield Fish Species Pairable Plant Species  Total Success Rate  \\\n",
            "42    54.130704      Tilapia                  Basil            0.882117   \n",
            "53   280.770603        Trout               Tomatoes            0.864261   \n",
            "88   206.873010        Perch                  Basil            0.783131   \n",
            "121  130.185496        Trout                Lettuce            0.927611   \n",
            "269  259.620727        Trout                  Basil            0.889023   \n",
            "\n",
            "    Success Class  \n",
            "42            Yes  \n",
            "53            Yes  \n",
            "88            Yes  \n",
            "121           Yes  \n",
            "269           Yes  \n"
          ]
        }
      ]
    },
    {
      "cell_type": "code",
      "source": [
        "data['Fish Species'].value_counts()"
      ],
      "metadata": {
        "colab": {
          "base_uri": "https://localhost:8080/"
        },
        "id": "tVqcCFu_9sPO",
        "outputId": "bdc89e6a-4f53-4dd5-8185-8f74f1b59bb8"
      },
      "execution_count": 38,
      "outputs": [
        {
          "output_type": "execute_result",
          "data": {
            "text/plain": [
              "Trout      3378\n",
              "Perch      3322\n",
              "Tilapia    3287\n",
              "Name: Fish Species, dtype: int64"
            ]
          },
          "metadata": {},
          "execution_count": 38
        }
      ]
    },
    {
      "cell_type": "code",
      "source": [
        "data['Pairable Plant Species'].value_counts()"
      ],
      "metadata": {
        "colab": {
          "base_uri": "https://localhost:8080/"
        },
        "id": "QsAu3umk-HYx",
        "outputId": "4575a764-fe1a-467c-8649-d8cd798f6892"
      },
      "execution_count": 39,
      "outputs": [
        {
          "output_type": "execute_result",
          "data": {
            "text/plain": [
              "Tomatoes    3375\n",
              "Lettuce     3311\n",
              "Basil       3301\n",
              "Name: Pairable Plant Species, dtype: int64"
            ]
          },
          "metadata": {},
          "execution_count": 39
        }
      ]
    },
    {
      "cell_type": "code",
      "source": [
        "data = data.drop(['Fish Behavior', 'Growth Stage'], axis=1)"
      ],
      "metadata": {
        "id": "QrEODiir-I_8"
      },
      "execution_count": 40,
      "outputs": []
    },
    {
      "cell_type": "code",
      "source": [
        "import pandas as pd\n",
        "from sklearn.preprocessing import LabelEncoder, StandardScaler\n",
        "\n",
        "# Encoding categorical variables.\n",
        "label_encoder = LabelEncoder()\n",
        "\n",
        "data['Fish Species'] = label_encoder.fit_transform(data['Fish Species'])\n",
        "data['Pairable Plant Species'] = label_encoder.fit_transform(data['Pairable Plant Species'])\n",
        "\n",
        "scaler = StandardScaler()\n",
        "numerical_columns = ['Temperature', 'pH', 'Dissolved Oxygen', 'Ammonia', 'Nitrate', 'Fish Growth Rate', 'Leaf Area', 'Yield']\n",
        "data[numerical_columns] = scaler.fit_transform(data[numerical_columns])\n",
        "print(data.head())"
      ],
      "metadata": {
        "colab": {
          "base_uri": "https://localhost:8080/"
        },
        "id": "znckZOkQ-Lx_",
        "outputId": "dac69f6f-303d-4a58-99fd-f4962da32c16"
      },
      "execution_count": 41,
      "outputs": [
        {
          "output_type": "stream",
          "name": "stdout",
          "text": [
            "   Temperature        pH  Dissolved Oxygen   Ammonia   Nitrate  \\\n",
            "0     0.179504  0.857789         -0.371669  0.903916 -0.453946   \n",
            "1     0.753624 -1.073783         -1.579894  0.017498 -0.998721   \n",
            "3     0.165942 -1.558670         -0.323267  1.162777 -1.444018   \n",
            "4    -0.252386 -1.646439          1.528732  0.064483 -0.907885   \n",
            "5     0.514504  1.701054          0.766114  1.491115 -1.439660   \n",
            "\n",
            "   Fish Growth Rate  Leaf Area     Yield  Fish Species  \\\n",
            "0          0.621931   1.700883  0.991079             2   \n",
            "1          1.368846  -0.081249 -0.517056             1   \n",
            "3          0.710240   1.231386  0.809347             0   \n",
            "4         -0.981008   0.658088  0.590710             2   \n",
            "5         -0.230191   1.493335 -0.181713             0   \n",
            "\n",
            "   Pairable Plant Species  Total Success Rate Success Class  \n",
            "0                       1            0.764231           Yes  \n",
            "1                       0            0.821841           Yes  \n",
            "3                       2            0.892544           Yes  \n",
            "4                       0            0.964759           Yes  \n",
            "5                       2            0.794721           Yes  \n"
          ]
        }
      ]
    },
    {
      "cell_type": "markdown",
      "source": [
        "MODEL TRAINING"
      ],
      "metadata": {
        "id": "gpN4bMx6-WtX"
      }
    },
    {
      "cell_type": "code",
      "source": [
        "X = data.drop([ 'Total Success Rate', 'Success Class'], axis=1)  # Features\n",
        "Y = data['Success Class']  # Target"
      ],
      "metadata": {
        "id": "ikBTKzRt-pS4"
      },
      "execution_count": 42,
      "outputs": []
    },
    {
      "cell_type": "code",
      "source": [
        "from sklearn.model_selection import cross_val_score\n",
        "from sklearn.model_selection import KFold\n",
        "from sklearn.svm import SVC\n",
        "#Cross Validation\n",
        "classifier = SVC()\n",
        "kfold = KFold(n_splits=5, shuffle=True, random_state=42)\n",
        "\n",
        "scores = cross_val_score(classifier, X, Y, cv=kfold)\n",
        "print(\"Cross-Validation Scores:\", scores)\n",
        "print(f\"Mean Accuracy: {scores.mean():.2f} (+/- {scores.std() * 2:.2f})\")"
      ],
      "metadata": {
        "colab": {
          "base_uri": "https://localhost:8080/"
        },
        "id": "MELunNOD-PNA",
        "outputId": "a533dee0-382d-46d3-b348-f636887b8c63"
      },
      "execution_count": 43,
      "outputs": [
        {
          "output_type": "stream",
          "name": "stdout",
          "text": [
            "Cross-Validation Scores: [0.95145145 0.94994995 0.94742113 0.94641963 0.93940911]\n",
            "Mean Accuracy: 0.95 (+/- 0.01)\n"
          ]
        }
      ]
    },
    {
      "cell_type": "code",
      "source": [
        "from sklearn.model_selection import train_test_split\n",
        "X_train,X_test,Y_train,Y_test=train_test_split(X,Y,test_size=0.2,random_state=42)"
      ],
      "metadata": {
        "id": "uiY7uCr1-dIV"
      },
      "execution_count": 47,
      "outputs": []
    },
    {
      "cell_type": "code",
      "source": [
        "from sklearn.metrics import accuracy_score\n",
        "from sklearn.tree import DecisionTreeClassifier\n",
        "from sklearn.tree import ExtraTreeClassifier\n",
        "from sklearn.svm import SVC\n",
        "from sklearn.ensemble import GradientBoostingClassifier"
      ],
      "metadata": {
        "id": "07PMCeDn-32s"
      },
      "execution_count": 48,
      "outputs": []
    },
    {
      "cell_type": "markdown",
      "source": [
        "**MODEL** **EVALUATION**"
      ],
      "metadata": {
        "id": "o0BIWv6E_AnX"
      }
    },
    {
      "cell_type": "code",
      "source": [
        "models = {\n",
        "    'Decision Tree': DecisionTreeClassifier(),\n",
        "    'Support vector Machine':SVC(),\n",
        "    'Gradient Boosting': GradientBoostingClassifier(),\n",
        "    'Extra Trees': ExtraTreeClassifier(),\n",
        "}\n",
        "for name, md in models.items():\n",
        "    md.fit(X_train,Y_train)\n",
        "    ypred = md.predict(X_test)\n",
        "    print(f\"{name}  with accuracy : {accuracy_score(Y_test,ypred)}\")"
      ],
      "metadata": {
        "colab": {
          "base_uri": "https://localhost:8080/"
        },
        "id": "mPCyVoxL-9LI",
        "outputId": "615d39bf-3e76-4ea7-de3d-07dcd1ce919f"
      },
      "execution_count": 49,
      "outputs": [
        {
          "output_type": "stream",
          "name": "stdout",
          "text": [
            "Decision Tree  with accuracy : 0.8918918918918919\n",
            "Support vector Machine  with accuracy : 0.9514514514514515\n",
            "Gradient Boosting  with accuracy : 0.950950950950951\n",
            "Extra Trees  with accuracy : 0.8928928928928929\n"
          ]
        }
      ]
    },
    {
      "cell_type": "code",
      "source": [
        "import matplotlib.pyplot as plt\n",
        "classifiers = ['Dec Tree', 'SVM', 'Grad Boost', 'xtraTrees']\n",
        "accuracies = [0.891, 0.9345, 0.9159, 0.8958\n",
        "plt.bar(classifiers, accuracies, color=['blue', 'green', 'orange', 'red'])\n",
        "plt.xlabel('Classifiers')\n",
        "plt.ylabel('Accuracy')\n",
        "plt.title('Classifier Comparison')\n",
        "plt.ylim(0.8, 1.0)\n",
        "for i, accuracy in enumerate(accuracies):\n",
        "    plt.text(i, accuracy + 0.01, f'{accuracy:.3f}', ha='center')\n",
        "plt.show()"
      ],
      "metadata": {
        "colab": {
          "base_uri": "https://localhost:8080/",
          "height": 472
        },
        "id": "S542BR2B_Inu",
        "outputId": "ebeaccdb-bccd-4d5d-ca7c-5acb767eec8d"
      },
      "execution_count": 68,
      "outputs": [
        {
          "output_type": "display_data",
          "data": {
            "text/plain": [
              "<Figure size 640x480 with 1 Axes>"
            ],
            "image/png": "[encoded data removed]"
          },
          "metadata": {}
        }
      ]
    },
    {
      "cell_type": "code",
      "source": [
        "from sklearn.metrics import confusion_matrix\n",
        "conf_matrix = confusion_matrix(Y_test, ypred)\n",
        "sns.heatmap(conf_matrix, annot=True, fmt=\"d\", cmap=\"Blues\", cbar=False)\n",
        "plt.xlabel(\"Predicted Labels\")\n",
        "plt.ylabel(\"True Labels\")\n",
        "plt.title(\"Confusion Matrix\")\n",
        "plt.show()"
      ],
      "metadata": {
        "colab": {
          "base_uri": "https://localhost:8080/",
          "height": 472
        },
        "id": "QiNf6paX_LMF",
        "outputId": "639fee0a-cfda-429d-81fa-c0a8531b8aef"
      },
      "execution_count": 52,
      "outputs": [
        {
          "output_type": "display_data",
          "data": {
            "text/plain": [
              "<Figure size 640x480 with 1 Axes>"
            ],
            "image/png": "[encoded data removed]"
          },
          "metadata": {}
        }
      ]
    },
    {
      "cell_type": "code",
      "source": [
        "from sklearn.metrics import classification_report\n",
        "print( classification_report(Y_test, ypred))"
      ],
      "metadata": {
        "colab": {
          "base_uri": "https://localhost:8080/"
        },
        "id": "YeqycMFJ_Nde",
        "outputId": "53af9e7b-2060-4e78-f858-77f0f3063ac3"
      },
      "execution_count": 53,
      "outputs": [
        {
          "output_type": "stream",
          "name": "stdout",
          "text": [
            "              precision    recall  f1-score   support\n",
            "\n",
            "          No       0.07      0.09      0.08        97\n",
            "         Yes       0.95      0.93      0.94      1901\n",
            "\n",
            "    accuracy                           0.89      1998\n",
            "   macro avg       0.51      0.51      0.51      1998\n",
            "weighted avg       0.91      0.89      0.90      1998\n",
            "\n"
          ]
        }
      ]
    },
    {
      "cell_type": "markdown",
      "source": [
        "**FEATURE EXTRACTION(PCA,CROSS VALIDATION)**"
      ],
      "metadata": {
        "id": "NrGYFr6k_RKg"
      }
    },
    {
      "cell_type": "code",
      "source": [
        "from sklearn.decomposition import PCA\n",
        "import pandas as pd\n",
        "\n",
        "num_components = 10\n",
        "pca = PCA(n_components=num_components)\n",
        "principal_components = pca.fit_transform(X)\n",
        "\n",
        "columns = [f'PC{i+1}' for i in range(num_components)]\n",
        "principal_df = pd.DataFrame(data=principal_components, columns=columns)\n",
        "result_data = pd.concat([data, principal_df], axis=1)\n",
        "print(result_data.head())"
      ],
      "metadata": {
        "colab": {
          "base_uri": "https://localhost:8080/"
        },
        "id": "C82CSFSj_ZfO",
        "outputId": "a1f22109-6fa6-40a1-d34a-578f88d44aff"
      },
      "execution_count": 56,
      "outputs": [
        {
          "output_type": "stream",
          "name": "stdout",
          "text": [
            "   Temperature        pH  Dissolved Oxygen   Ammonia   Nitrate  \\\n",
            "0     0.179504  0.857789         -0.371669  0.903916 -0.453946   \n",
            "1     0.753624 -1.073783         -1.579894  0.017498 -0.998721   \n",
            "3     0.165942 -1.558670         -0.323267  1.162777 -1.444018   \n",
            "4    -0.252386 -1.646439          1.528732  0.064483 -0.907885   \n",
            "5     0.514504  1.701054          0.766114  1.491115 -1.439660   \n",
            "\n",
            "   Fish Growth Rate  Leaf Area     Yield  Fish Species  \\\n",
            "0          0.621931   1.700883  0.991079           2.0   \n",
            "1          1.368846  -0.081249 -0.517056           1.0   \n",
            "3          0.710240   1.231386  0.809347           0.0   \n",
            "4         -0.981008   0.658088  0.590710           2.0   \n",
            "5         -0.230191   1.493335 -0.181713           0.0   \n",
            "\n",
            "   Pairable Plant Species  ...       PC1       PC2       PC3       PC4  \\\n",
            "0                     1.0  ... -1.592885  0.770440  0.977978  0.090742   \n",
            "1                     0.0  ...  0.907630 -0.789394 -0.768067 -0.493681   \n",
            "3                     2.0  ... -1.027195  0.017722 -0.909216 -1.777007   \n",
            "4                     0.0  ... -2.158694  0.910093  0.875825 -0.961355   \n",
            "5                     2.0  ... -1.911292  1.868330  0.160179 -1.011010   \n",
            "\n",
            "        PC5       PC6       PC7       PC8       PC9      PC10  \n",
            "0  0.282142 -0.441971  1.392054 -0.153384  0.713581 -0.582399  \n",
            "1  0.495996 -0.224731  2.215714 -0.106702  0.578578  0.738066  \n",
            "3 -0.616356 -1.056652 -0.971771 -0.400731  1.423772  0.140181  \n",
            "4  0.150988  1.523084  0.737093 -0.315291 -1.453260 -0.277579  \n",
            "5  0.657430 -0.978685  0.054131 -0.308704 -0.856141  0.551014  \n",
            "\n",
            "[5 rows x 22 columns]\n"
          ]
        }
      ]
    },
    {
      "cell_type": "code",
      "source": [
        "result_data.isnull().sum()"
      ],
      "metadata": {
        "colab": {
          "base_uri": "https://localhost:8080/"
        },
        "id": "RVMXOVgZ_qMi",
        "outputId": "3c7b6f8d-13cb-48c0-93e1-b41ac0742eca"
      },
      "execution_count": 57,
      "outputs": [
        {
          "output_type": "execute_result",
          "data": {
            "text/plain": [
              "Temperature               13\n",
              "pH                        13\n",
              "Dissolved Oxygen          13\n",
              "Ammonia                   13\n",
              "Nitrate                   13\n",
              "Fish Growth Rate          13\n",
              "Leaf Area                 13\n",
              "Yield                     13\n",
              "Fish Species              13\n",
              "Pairable Plant Species    13\n",
              "Total Success Rate        13\n",
              "Success Class             13\n",
              "PC1                       13\n",
              "PC2                       13\n",
              "PC3                       13\n",
              "PC4                       13\n",
              "PC5                       13\n",
              "PC6                       13\n",
              "PC7                       13\n",
              "PC8                       13\n",
              "PC9                       13\n",
              "PC10                      13\n",
              "dtype: int64"
            ]
          },
          "metadata": {},
          "execution_count": 57
        }
      ]
    },
    {
      "cell_type": "code",
      "source": [
        "result_data = result_data.dropna()"
      ],
      "metadata": {
        "id": "70EOd4gZBRZq"
      },
      "execution_count": 58,
      "outputs": []
    },
    {
      "cell_type": "code",
      "source": [
        "result_data.duplicated().sum()"
      ],
      "metadata": {
        "colab": {
          "base_uri": "https://localhost:8080/"
        },
        "id": "pHOHzcP6_u5Z",
        "outputId": "db82f8c6-09f1-4b2d-8104-a20053e8f7e5"
      },
      "execution_count": 59,
      "outputs": [
        {
          "output_type": "execute_result",
          "data": {
            "text/plain": [
              "0"
            ]
          },
          "metadata": {},
          "execution_count": 59
        }
      ]
    },
    {
      "cell_type": "code",
      "source": [
        "from imblearn.under_sampling import RandomUnderSampler\n",
        "import pandas as pd\n",
        "\n",
        "rus = RandomUnderSampler(random_state=42)\n",
        "X, Y = rus.fit_resample(X, Y)"
      ],
      "metadata": {
        "id": "9FBYj4CFiiJw"
      },
      "execution_count": 60,
      "outputs": []
    },
    {
      "cell_type": "code",
      "source": [
        "X = result_data.drop([ 'Total Success Rate','Success Class'], axis=1)  # Features\n",
        "Y = result_data['Success Class']"
      ],
      "metadata": {
        "id": "1ha1oAxVkJHI"
      },
      "execution_count": 61,
      "outputs": []
    },
    {
      "cell_type": "code",
      "source": [
        "from sklearn.model_selection import cross_val_score\n",
        "from sklearn.model_selection import KFold\n",
        "from sklearn.svm import SVC\n",
        "import pandas as pd\n",
        "classifier = SVC()\n",
        "kfold = KFold(n_splits=5, shuffle=True, random_state=42)\n",
        "scores = cross_val_score(classifier, X, Y, cv=kfold)\n",
        "print(\"Cross-Validation Scores:\", scores)\n",
        "print(f\"Mean Accuracy: {scores.mean():.2f} (+/- {scores.std() * 2:.2f})\")"
      ],
      "metadata": {
        "colab": {
          "base_uri": "https://localhost:8080/"
        },
        "id": "ffHlIKTH_8hi",
        "outputId": "79f6a803-080f-4bd2-b3f4-0dbfadc74ed0"
      },
      "execution_count": 62,
      "outputs": [
        {
          "output_type": "stream",
          "name": "stdout",
          "text": [
            "Cross-Validation Scores: [0.95488722 0.94686717 0.94536341 0.94837093 0.93931795]\n",
            "Mean Accuracy: 0.95 (+/- 0.01)\n"
          ]
        }
      ]
    },
    {
      "cell_type": "code",
      "source": [
        "from sklearn.model_selection import train_test_split\n",
        "X_train,X_test,Y_train,Y_test=train_test_split(X,Y,test_size=0.2,random_state=42)"
      ],
      "metadata": {
        "id": "pm9_C-ad_-gz"
      },
      "execution_count": 63,
      "outputs": []
    },
    {
      "cell_type": "code",
      "source": [
        "models = {\n",
        "    'Decision Tree': DecisionTreeClassifier(),\n",
        "    'Support vector Machine':SVC(),\n",
        "    'Gradient Boosting': GradientBoostingClassifier(),\n",
        "    'Extra Trees': ExtraTreeClassifier(),\n",
        "}\n",
        "for name, md in models.items():\n",
        "    md.fit(X_train,Y_train)\n",
        "    ypred = md.predict(X_test)\n",
        "\n",
        "    print(f\"{name}  with accuracy : {accuracy_score(Y_test,ypred)}\")"
      ],
      "metadata": {
        "colab": {
          "base_uri": "https://localhost:8080/"
        },
        "id": "_uEE4FuNACPH",
        "outputId": "884b55c3-5aa1-4a54-d7e9-2c43a37137d3"
      },
      "execution_count": 64,
      "outputs": [
        {
          "output_type": "stream",
          "name": "stdout",
          "text": [
            "Decision Tree  with accuracy : 0.8947368421052632\n",
            "Support vector Machine  with accuracy : 0.9548872180451128\n",
            "Gradient Boosting  with accuracy : 0.9523809523809523\n",
            "Extra Trees  with accuracy : 0.8987468671679198\n"
          ]
        }
      ]
    },
    {
      "cell_type": "code",
      "source": [
        "import matplotlib.pyplot as plt\n",
        "\n",
        "classifiers = ['Dec Tree', 'SVM', 'Grad Boost', 'xtraTrees']\n",
        "accuracies = [0.8947, 0.95488, 0.9323, 0.8987]\n",
        "# Plotting the bar graph\n",
        "plt.bar(classifiers, accuracies, color=['blue', 'green', 'orange', 'red'])\n",
        "plt.xlabel('Classifiers')\n",
        "plt.ylabel('Accuracy')\n",
        "plt.title('Classifier Comparison')\n",
        "plt.ylim(0.8, 1.0)\n",
        "for i, accuracy in enumerate(accuracies):\n",
        "    plt.text(i, accuracy + 0.01, f'{accuracy:.3f}', ha='center')\n",
        "plt.show()"
      ],
      "metadata": {
        "colab": {
          "base_uri": "https://localhost:8080/",
          "height": 472
        },
        "id": "3KT6nx5uxojn",
        "outputId": "2fa5f182-3afe-4eb8-fa54-30db671f6220"
      },
      "execution_count": 69,
      "outputs": [
        {
          "output_type": "display_data",
          "data": {
            "text/plain": [
              "<Figure size 640x480 with 1 Axes>"
            ],
            "image/png": "[encoded data removed]"
          },
          "metadata": {}
        }
      ]
    },
    {
      "cell_type": "code",
      "source": [
        "from sklearn.metrics import confusion_matrix\n",
        "conf_matrix = confusion_matrix(Y_test, ypred)\n",
        "sns.heatmap(conf_matrix, annot=True, fmt=\"d\", cmap=\"Blues\", cbar=False)\n",
        "plt.xlabel(\"Predicted Labels\")\n",
        "plt.ylabel(\"True Labels\")\n",
        "plt.title(\"Confusion Matrix\")\n",
        "plt.show()"
      ],
      "metadata": {
        "colab": {
          "base_uri": "https://localhost:8080/",
          "height": 472
        },
        "id": "A3PsZThYywxe",
        "outputId": "a134c439-4b20-4fa6-f14d-915342cb74d3"
      },
      "execution_count": 70,
      "outputs": [
        {
          "output_type": "display_data",
          "data": {
            "text/plain": [
              "<Figure size 640x480 with 1 Axes>"
            ],
            "image/png": "[encoded data removed]"
          },
          "metadata": {}
        }
      ]
    },
    {
      "cell_type": "code",
      "source": [
        "from sklearn.metrics import classification_report\n",
        "print( classification_report(Y_test, ypred))"
      ],
      "metadata": {
        "colab": {
          "base_uri": "https://localhost:8080/"
        },
        "id": "wr5YUtI5zHMl",
        "outputId": "2ad5f766-4188-40be-e04f-a9fc87d0639a"
      },
      "execution_count": 71,
      "outputs": [
        {
          "output_type": "stream",
          "name": "stdout",
          "text": [
            "              precision    recall  f1-score   support\n",
            "\n",
            "          No       0.06      0.08      0.06        90\n",
            "         Yes       0.96      0.94      0.95      1905\n",
            "\n",
            "    accuracy                           0.90      1995\n",
            "   macro avg       0.51      0.51      0.51      1995\n",
            "weighted avg       0.91      0.90      0.91      1995\n",
            "\n"
          ]
        }
      ]
    }
  ]
}